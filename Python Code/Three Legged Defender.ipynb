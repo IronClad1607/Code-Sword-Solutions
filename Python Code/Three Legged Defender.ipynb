{
 "cells": [
  {
   "cell_type": "code",
   "execution_count": 1,
   "metadata": {},
   "outputs": [
    {
     "name": "stdout",
     "output_type": "stream",
     "text": [
      "5\n",
      "24\n",
      "25\n",
      "16\n",
      "19\n",
      "18\n",
      "33\n"
     ]
    }
   ],
   "source": [
    "#Given : N and array of colors of socks\n",
    "#N = 5\n",
    "#arr = [24,25,16,19,18]\n",
    "N = int(input())\n",
    "arr = []\n",
    "for i in range(N):\n",
    "    a = int(input())\n",
    "    arr.append(a)\n",
    "\n",
    "sum = 0\n",
    "for i in range(N):\n",
    "    a = arr[i]//3\n",
    "    sum += a\n",
    "print(sum)"
   ]
  },
  {
   "cell_type": "code",
   "execution_count": null,
   "metadata": {},
   "outputs": [],
   "source": []
  }
 ],
 "metadata": {
  "kernelspec": {
   "display_name": "Python 3",
   "language": "python",
   "name": "python3"
  },
  "language_info": {
   "codemirror_mode": {
    "name": "ipython",
    "version": 3
   },
   "file_extension": ".py",
   "mimetype": "text/x-python",
   "name": "python",
   "nbconvert_exporter": "python",
   "pygments_lexer": "ipython3",
   "version": "3.8.2"
  }
 },
 "nbformat": 4,
 "nbformat_minor": 4
}
