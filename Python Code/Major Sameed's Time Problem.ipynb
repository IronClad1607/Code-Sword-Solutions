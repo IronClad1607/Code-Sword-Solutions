{
 "cells": [
  {
   "cell_type": "code",
   "execution_count": 1,
   "metadata": {},
   "outputs": [
    {
     "name": "stdout",
     "output_type": "stream",
     "text": [
      "11:24:47pm\n",
      "23:24:47\n"
     ]
    }
   ],
   "source": [
    "#time = '11:13:45pm'\n",
    "time = input()\n",
    "time1 = time[:8]\n",
    "d_n = time[8:]\n",
    "time2 = time1.split(':')\n",
    "if d_n == 'am':\n",
    "    print(time1)\n",
    "else:\n",
    "    num = int(time2[0])\n",
    "    num += 12\n",
    "    time2[0] = str(num)\n",
    "    print(str(time2[0]+':'+str(time2[1])+':'+str(time2[2])))\n"
   ]
  },
  {
   "cell_type": "code",
   "execution_count": null,
   "metadata": {},
   "outputs": [],
   "source": []
  }
 ],
 "metadata": {
  "kernelspec": {
   "display_name": "Python 3",
   "language": "python",
   "name": "python3"
  },
  "language_info": {
   "codemirror_mode": {
    "name": "ipython",
    "version": 3
   },
   "file_extension": ".py",
   "mimetype": "text/x-python",
   "name": "python",
   "nbconvert_exporter": "python",
   "pygments_lexer": "ipython3",
   "version": "3.8.2"
  }
 },
 "nbformat": 4,
 "nbformat_minor": 4
}
