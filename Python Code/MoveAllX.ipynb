{
 "cells": [
  {
   "cell_type": "code",
   "execution_count": 3,
   "metadata": {},
   "outputs": [],
   "source": [
    "def moveX(s):\n",
    "    n = len(s)\n",
    "    ans = ''\n",
    "    xCount = 0\n",
    "    for i in range(n):\n",
    "        if s[i] == 'x':\n",
    "            xCount += 1\n",
    "        else:\n",
    "            ans += s[i]\n",
    "            \n",
    "    for i in range(xCount):\n",
    "        ans += 'x'\n",
    "        \n",
    "    return ans"
   ]
  },
  {
   "cell_type": "code",
   "execution_count": 4,
   "metadata": {},
   "outputs": [
    {
     "name": "stdout",
     "output_type": "stream",
     "text": [
      "axbnxsxm\n",
      "abnsmxxx\n"
     ]
    }
   ],
   "source": [
    "s = input()\n",
    "ans = moveX(s)\n",
    "print(ans)"
   ]
  },
  {
   "cell_type": "code",
   "execution_count": null,
   "metadata": {},
   "outputs": [],
   "source": []
  }
 ],
 "metadata": {
  "kernelspec": {
   "display_name": "Python 3",
   "language": "python",
   "name": "python3"
  },
  "language_info": {
   "codemirror_mode": {
    "name": "ipython",
    "version": 3
   },
   "file_extension": ".py",
   "mimetype": "text/x-python",
   "name": "python",
   "nbconvert_exporter": "python",
   "pygments_lexer": "ipython3",
   "version": "3.8.2"
  }
 },
 "nbformat": 4,
 "nbformat_minor": 4
}
